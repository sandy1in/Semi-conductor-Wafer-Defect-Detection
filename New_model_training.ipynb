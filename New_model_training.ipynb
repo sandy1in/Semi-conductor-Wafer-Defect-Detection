{
 "cells": [
  {
   "cell_type": "code",
   "execution_count": 1,
   "id": "0bf00bfd",
   "metadata": {},
   "outputs": [
    {
     "name": "stdout",
     "output_type": "stream",
     "text": [
      "WARNING:tensorflow:From C:\\Users\\User\\anaconda3\\Lib\\site-packages\\keras\\src\\losses.py:2976: The name tf.losses.sparse_softmax_cross_entropy is deprecated. Please use tf.compat.v1.losses.sparse_softmax_cross_entropy instead.\n",
      "\n"
     ]
    }
   ],
   "source": [
    "import pandas as pd\n",
    "import numpy as np\n",
    "import matplotlib.pyplot as plt\n",
    "from keras.preprocessing.image import ImageDataGenerator,load_img,img_to_array,array_to_img,img_to_array\n",
    "from keras import layers\n",
    "from keras import models\n",
    "from keras import callbacks\n",
    "from keras.optimizers import Adam\n",
    "from keras.models import load_model\n",
    "import os\n",
    "import cv2 as cv\n",
    "from tensorflow.keras.utils import to_categorical"
   ]
  },
  {
   "cell_type": "code",
   "execution_count": 11,
   "id": "758f7682",
   "metadata": {},
   "outputs": [],
   "source": [
    "train=\"data\\\\train\"\n",
    "validation=\"data\\\\validation\"\n",
    "test=\"data\\\\test\""
   ]
  },
  {
   "cell_type": "code",
   "execution_count": 12,
   "id": "eec0181b",
   "metadata": {},
   "outputs": [],
   "source": [
    "train_data_generator = ImageDataGenerator(rescale=1.0/255)"
   ]
  },
  {
   "cell_type": "code",
   "execution_count": 13,
   "id": "5708540f",
   "metadata": {},
   "outputs": [
    {
     "name": "stdout",
     "output_type": "stream",
     "text": [
      "Found 13505 images belonging to 9 classes.\n",
      "Found 58535 images belonging to 9 classes.\n",
      "Found 18012 images belonging to 9 classes.\n"
     ]
    }
   ],
   "source": [
    "test_data = train_data_generator.flow_from_directory(\n",
    "    directory=test,\n",
    "    target_size=(224, 224),\n",
    "    batch_size=64,\n",
    "    class_mode='categorical',\n",
    "    shuffle=True \n",
    ")\n",
    "\n",
    "train_data = train_data_generator.flow_from_directory(\n",
    "    directory=train,\n",
    "    target_size=(224, 224),\n",
    "    batch_size=64,\n",
    "    class_mode='categorical',\n",
    "    shuffle=True \n",
    ")\n",
    "\n",
    "validation_data = train_data_generator.flow_from_directory(\n",
    "    directory=validation,\n",
    "    target_size=(224, 224),\n",
    "    batch_size=64,\n",
    "    class_mode='categorical',\n",
    "    shuffle=True \n",
    ")\n",
    "\n"
   ]
  },
  {
   "cell_type": "code",
   "execution_count": 14,
   "id": "55524192",
   "metadata": {},
   "outputs": [],
   "source": [
    "def create_model():\n",
    "    model = models.Sequential([\n",
    "        layers.Input(shape=(224, 224, 3),name='Input Layer'),\n",
    "        \n",
    "        layers.Conv2D(filters=16, kernel_size=(3, 3), activation='relu',padding='same'),\n",
    "        layers.BatchNormalization(),\n",
    "        layers.Conv2D(filters=16, kernel_size=(3, 3), activation='relu',padding='same'),\n",
    "        layers.BatchNormalization(),\n",
    "        \n",
    "        layers.Conv2D(filters=32, kernel_size=(3, 3), activation='relu',padding='same'),\n",
    "        layers.BatchNormalization(),\n",
    "        layers.MaxPooling2D(pool_size=(2, 2),padding='same'),\n",
    "        layers.Conv2D(filters=32, kernel_size=(3, 3), activation='relu',padding='same'),\n",
    "        layers.BatchNormalization(),\n",
    "        \n",
    "        layers.Conv2D(filters=64, kernel_size=(3, 3), activation='relu',padding='same'),\n",
    "        layers.BatchNormalization(),\n",
    "        layers.MaxPooling2D(pool_size=(2, 2),padding='same'),\n",
    "        layers.Conv2D(filters=64, kernel_size=(3, 3), activation='relu',padding='same'),\n",
    "        layers.BatchNormalization(),\n",
    "        \n",
    "        layers.Conv2D(filters=128, kernel_size=(3, 3), activation='relu',padding='same'),\n",
    "        layers.BatchNormalization(),\n",
    "        layers.MaxPooling2D(pool_size=(2, 2)),\n",
    "        layers.Conv2D(filters=128, kernel_size=(3, 3), activation='relu',padding='same'),\n",
    "        layers.BatchNormalization(),\n",
    "        \n",
    "        layers.SpatialDropout2D(rate=0.2),\n",
    "        layers.MaxPooling2D(pool_size=(2, 2)),\n",
    "        \n",
    "        \n",
    "        layers.Flatten(),        \n",
    "        \n",
    "        layers.Dense(4608, activation='relu'),\n",
    "        \n",
    "        layers.Dense(512, activation='relu'),\n",
    "        \n",
    "        layers.Dense(9, activation='softmax') ,\n",
    "        \n",
    "    ])\n",
    "    \n",
    "    \n",
    "    return model"
   ]
  },
  {
   "cell_type": "code",
   "execution_count": 16,
   "id": "def80bc1",
   "metadata": {},
   "outputs": [
    {
     "name": "stdout",
     "output_type": "stream",
     "text": [
      "Model: \"sequential_1\"\n",
      "_________________________________________________________________\n",
      " Layer (type)                Output Shape              Param #   \n",
      "=================================================================\n",
      " conv2d_8 (Conv2D)           (None, 222, 222, 16)      448       \n",
      "                                                                 \n",
      " batch_normalization_8 (Bat  (None, 222, 222, 16)      64        \n",
      " chNormalization)                                                \n",
      "                                                                 \n",
      " conv2d_9 (Conv2D)           (None, 220, 220, 16)      2320      \n",
      "                                                                 \n",
      " batch_normalization_9 (Bat  (None, 220, 220, 16)      64        \n",
      " chNormalization)                                                \n",
      "                                                                 \n",
      " conv2d_10 (Conv2D)          (None, 218, 218, 32)      4640      \n",
      "                                                                 \n",
      " batch_normalization_10 (Ba  (None, 218, 218, 32)      128       \n",
      " tchNormalization)                                               \n",
      "                                                                 \n",
      " max_pooling2d_4 (MaxPoolin  (None, 109, 109, 32)      0         \n",
      " g2D)                                                            \n",
      "                                                                 \n",
      " conv2d_11 (Conv2D)          (None, 107, 107, 32)      9248      \n",
      "                                                                 \n",
      " batch_normalization_11 (Ba  (None, 107, 107, 32)      128       \n",
      " tchNormalization)                                               \n",
      "                                                                 \n",
      " conv2d_12 (Conv2D)          (None, 105, 105, 64)      18496     \n",
      "                                                                 \n",
      " batch_normalization_12 (Ba  (None, 105, 105, 64)      256       \n",
      " tchNormalization)                                               \n",
      "                                                                 \n",
      " max_pooling2d_5 (MaxPoolin  (None, 52, 52, 64)        0         \n",
      " g2D)                                                            \n",
      "                                                                 \n",
      " conv2d_13 (Conv2D)          (None, 50, 50, 64)        36928     \n",
      "                                                                 \n",
      " batch_normalization_13 (Ba  (None, 50, 50, 64)        256       \n",
      " tchNormalization)                                               \n",
      "                                                                 \n",
      " conv2d_14 (Conv2D)          (None, 48, 48, 128)       73856     \n",
      "                                                                 \n",
      " batch_normalization_14 (Ba  (None, 48, 48, 128)       512       \n",
      " tchNormalization)                                               \n",
      "                                                                 \n",
      " max_pooling2d_6 (MaxPoolin  (None, 24, 24, 128)       0         \n",
      " g2D)                                                            \n",
      "                                                                 \n",
      " conv2d_15 (Conv2D)          (None, 22, 22, 128)       147584    \n",
      "                                                                 \n",
      " batch_normalization_15 (Ba  (None, 22, 22, 128)       512       \n",
      " tchNormalization)                                               \n",
      "                                                                 \n",
      " spatial_dropout2d_1 (Spati  (None, 22, 22, 128)       0         \n",
      " alDropout2D)                                                    \n",
      "                                                                 \n",
      " max_pooling2d_7 (MaxPoolin  (None, 11, 11, 128)       0         \n",
      " g2D)                                                            \n",
      "                                                                 \n",
      " flatten_1 (Flatten)         (None, 15488)             0         \n",
      "                                                                 \n",
      " dense_3 (Dense)             (None, 4608)              71373312  \n",
      "                                                                 \n",
      " dense_4 (Dense)             (None, 512)               2359808   \n",
      "                                                                 \n",
      " dense_5 (Dense)             (None, 9)                 4617      \n",
      "                                                                 \n",
      "=================================================================\n",
      "Total params: 74033177 (282.41 MB)\n",
      "Trainable params: 74032217 (282.41 MB)\n",
      "Non-trainable params: 960 (3.75 KB)\n",
      "_________________________________________________________________\n"
     ]
    }
   ],
   "source": [
    "model=create_model()\n",
    "model.summary()"
   ]
  },
  {
   "cell_type": "code",
   "execution_count": 17,
   "id": "93c47856",
   "metadata": {},
   "outputs": [],
   "source": [
    "model.compile(\n",
    "    optimizer=Adam(),\n",
    "    loss='categorical_crossentropy',\n",
    "    metrics=['accuracy']\n",
    ")"
   ]
  },
  {
   "cell_type": "code",
   "execution_count": 18,
   "id": "a7df592e",
   "metadata": {},
   "outputs": [],
   "source": [
    "\n",
    "checkpoint = callbacks.ModelCheckpoint('best_model.keras', save_best_only=True, monitor='val_accuracy', mode='max', verbose=1)\n"
   ]
  },
  {
   "cell_type": "code",
   "execution_count": 19,
   "id": "c534ab80",
   "metadata": {},
   "outputs": [
    {
     "name": "stdout",
     "output_type": "stream",
     "text": [
      "Epoch 1/20\n",
      "WARNING:tensorflow:From C:\\Users\\User\\anaconda3\\Lib\\site-packages\\keras\\src\\utils\\tf_utils.py:492: The name tf.ragged.RaggedTensorValue is deprecated. Please use tf.compat.v1.ragged.RaggedTensorValue instead.\n",
      "\n",
      "WARNING:tensorflow:From C:\\Users\\User\\anaconda3\\Lib\\site-packages\\keras\\src\\engine\\base_layer_utils.py:384: The name tf.executing_eagerly_outside_functions is deprecated. Please use tf.compat.v1.executing_eagerly_outside_functions instead.\n",
      "\n",
      "915/915 [==============================] - ETA: 0s - loss: 1.2308 - accuracy: 0.6990\n",
      "Epoch 1: val_accuracy improved from -inf to 0.75178, saving model to best_model.keras\n",
      "915/915 [==============================] - 2910s 3s/step - loss: 1.2308 - accuracy: 0.6990 - val_loss: 0.6326 - val_accuracy: 0.7518\n",
      "Epoch 2/20\n",
      "915/915 [==============================] - ETA: 0s - loss: 0.5353 - accuracy: 0.7997\n",
      "Epoch 2: val_accuracy improved from 0.75178 to 0.84555, saving model to best_model.keras\n",
      "915/915 [==============================] - 2594s 3s/step - loss: 0.5353 - accuracy: 0.7997 - val_loss: 0.4286 - val_accuracy: 0.8455\n",
      "Epoch 3/20\n",
      "915/915 [==============================] - ETA: 0s - loss: 0.4281 - accuracy: 0.8457\n",
      "Epoch 3: val_accuracy improved from 0.84555 to 0.87558, saving model to best_model.keras\n",
      "915/915 [==============================] - 2573s 3s/step - loss: 0.4281 - accuracy: 0.8457 - val_loss: 0.3550 - val_accuracy: 0.8756\n",
      "Epoch 4/20\n",
      "915/915 [==============================] - ETA: 0s - loss: 0.3353 - accuracy: 0.8819\n",
      "Epoch 4: val_accuracy improved from 0.87558 to 0.88669, saving model to best_model.keras\n",
      "915/915 [==============================] - 2533s 3s/step - loss: 0.3353 - accuracy: 0.8819 - val_loss: 0.3469 - val_accuracy: 0.8867\n",
      "Epoch 5/20\n",
      "915/915 [==============================] - ETA: 0s - loss: 0.2647 - accuracy: 0.9071\n",
      "Epoch 5: val_accuracy improved from 0.88669 to 0.89612, saving model to best_model.keras\n",
      "915/915 [==============================] - 2540s 3s/step - loss: 0.2647 - accuracy: 0.9071 - val_loss: 0.3041 - val_accuracy: 0.8961\n",
      "Epoch 6/20\n",
      "915/915 [==============================] - ETA: 0s - loss: 0.2127 - accuracy: 0.9264\n",
      "Epoch 6: val_accuracy improved from 0.89612 to 0.90801, saving model to best_model.keras\n",
      "915/915 [==============================] - 2544s 3s/step - loss: 0.2127 - accuracy: 0.9264 - val_loss: 0.2897 - val_accuracy: 0.9080\n",
      "Epoch 7/20\n",
      "915/915 [==============================] - ETA: 0s - loss: 0.1571 - accuracy: 0.9463\n",
      "Epoch 7: val_accuracy improved from 0.90801 to 0.93821, saving model to best_model.keras\n",
      "915/915 [==============================] - 2541s 3s/step - loss: 0.1571 - accuracy: 0.9463 - val_loss: 0.2119 - val_accuracy: 0.9382\n",
      "Epoch 8/20\n",
      "915/915 [==============================] - ETA: 0s - loss: 0.1291 - accuracy: 0.9575\n",
      "Epoch 8: val_accuracy improved from 0.93821 to 0.93849, saving model to best_model.keras\n",
      "915/915 [==============================] - 2528s 3s/step - loss: 0.1291 - accuracy: 0.9575 - val_loss: 0.2079 - val_accuracy: 0.9385\n",
      "Epoch 9/20\n",
      "915/915 [==============================] - ETA: 0s - loss: 0.0993 - accuracy: 0.9671\n",
      "Epoch 9: val_accuracy did not improve from 0.93849\n",
      "915/915 [==============================] - 2783s 3s/step - loss: 0.0993 - accuracy: 0.9671 - val_loss: 0.2435 - val_accuracy: 0.9355\n",
      "Epoch 10/20\n",
      "915/915 [==============================] - ETA: 0s - loss: 0.0850 - accuracy: 0.9737\n",
      "Epoch 10: val_accuracy improved from 0.93849 to 0.94709, saving model to best_model.keras\n",
      "915/915 [==============================] - 3114s 3s/step - loss: 0.0850 - accuracy: 0.9737 - val_loss: 0.2075 - val_accuracy: 0.9471\n",
      "Epoch 11/20\n",
      "915/915 [==============================] - ETA: 0s - loss: 0.0791 - accuracy: 0.9753\n",
      "Epoch 11: val_accuracy improved from 0.94709 to 0.94998, saving model to best_model.keras\n",
      "915/915 [==============================] - 2524s 3s/step - loss: 0.0791 - accuracy: 0.9753 - val_loss: 0.2045 - val_accuracy: 0.9500\n",
      "Epoch 12/20\n",
      "915/915 [==============================] - ETA: 0s - loss: 0.0568 - accuracy: 0.9821\n",
      "Epoch 12: val_accuracy did not improve from 0.94998\n",
      "915/915 [==============================] - 2536s 3s/step - loss: 0.0568 - accuracy: 0.9821 - val_loss: 0.2468 - val_accuracy: 0.9488\n",
      "Epoch 13/20\n",
      "915/915 [==============================] - ETA: 0s - loss: 0.0602 - accuracy: 0.9811\n",
      "Epoch 13: val_accuracy improved from 0.94998 to 0.95037, saving model to best_model.keras\n",
      "915/915 [==============================] - 2543s 3s/step - loss: 0.0602 - accuracy: 0.9811 - val_loss: 0.2533 - val_accuracy: 0.9504\n",
      "Epoch 14/20\n",
      "915/915 [==============================] - ETA: 0s - loss: 0.0533 - accuracy: 0.9846\n",
      "Epoch 14: val_accuracy improved from 0.95037 to 0.95375, saving model to best_model.keras\n",
      "915/915 [==============================] - 2549s 3s/step - loss: 0.0533 - accuracy: 0.9846 - val_loss: 0.2257 - val_accuracy: 0.9538\n",
      "Epoch 15/20\n",
      "915/915 [==============================] - ETA: 0s - loss: 0.0531 - accuracy: 0.9848\n",
      "Epoch 15: val_accuracy did not improve from 0.95375\n",
      "915/915 [==============================] - 2530s 3s/step - loss: 0.0531 - accuracy: 0.9848 - val_loss: 0.2391 - val_accuracy: 0.9503\n",
      "Epoch 16/20\n",
      "915/915 [==============================] - ETA: 0s - loss: 0.0466 - accuracy: 0.9872\n",
      "Epoch 16: val_accuracy did not improve from 0.95375\n",
      "915/915 [==============================] - 2511s 3s/step - loss: 0.0466 - accuracy: 0.9872 - val_loss: 0.2590 - val_accuracy: 0.9490\n",
      "Epoch 17/20\n",
      "915/915 [==============================] - ETA: 0s - loss: 0.0425 - accuracy: 0.9882\n",
      "Epoch 17: val_accuracy did not improve from 0.95375\n",
      "915/915 [==============================] - 2514s 3s/step - loss: 0.0425 - accuracy: 0.9882 - val_loss: 0.3060 - val_accuracy: 0.9431\n",
      "Epoch 18/20\n",
      "915/915 [==============================] - ETA: 0s - loss: 0.0415 - accuracy: 0.9880\n",
      "Epoch 18: val_accuracy did not improve from 0.95375\n",
      "915/915 [==============================] - 2511s 3s/step - loss: 0.0415 - accuracy: 0.9880 - val_loss: 0.2903 - val_accuracy: 0.9515\n",
      "Epoch 19/20\n",
      "915/915 [==============================] - ETA: 0s - loss: 0.0414 - accuracy: 0.9890\n",
      "Epoch 19: val_accuracy did not improve from 0.95375\n",
      "915/915 [==============================] - 2511s 3s/step - loss: 0.0414 - accuracy: 0.9890 - val_loss: 0.2747 - val_accuracy: 0.9459\n",
      "Epoch 20/20\n",
      "915/915 [==============================] - ETA: 0s - loss: 0.0357 - accuracy: 0.9904\n",
      "Epoch 20: val_accuracy improved from 0.95375 to 0.95742, saving model to best_model.keras\n",
      "915/915 [==============================] - 2519s 3s/step - loss: 0.0357 - accuracy: 0.9904 - val_loss: 0.2549 - val_accuracy: 0.9574\n"
     ]
    }
   ],
   "source": [
    "history = model.fit(\n",
    "    train_data, \n",
    "    batch_size=64,\n",
    "    validation_data=validation_data,\n",
    "    epochs=20,\n",
    "    verbose=True,\n",
    "    callbacks=[checkpoint]\n",
    ")"
   ]
  },
  {
   "cell_type": "code",
   "execution_count": 20,
   "id": "23a28e5a",
   "metadata": {},
   "outputs": [
    {
     "name": "stdout",
     "output_type": "stream",
     "text": [
      "212/212 [==============================] - 253s 1s/step\n"
     ]
    }
   ],
   "source": [
    "prdictions=model.predict(test_data)"
   ]
  },
  {
   "cell_type": "code",
   "execution_count": 21,
   "id": "b01c7a62",
   "metadata": {},
   "outputs": [
    {
     "data": {
      "image/png": "[encoded data removed]",
      "text/plain": [
       "<Figure size 640x480 with 1 Axes>"
      ]
     },
     "metadata": {},
     "output_type": "display_data"
    }
   ],
   "source": [
    "import matplotlib.pyplot as plt\n",
    "\n",
    "# Assuming 'history' is the variable storing the training history\n",
    "train_loss = history.history['loss']\n",
    "val_loss = history.history['val_loss']\n",
    "\n",
    "# Plotting training and validation loss over epochs\n",
    "plt.plot(range(1, len(train_loss) + 1), train_loss, label='Training Loss')\n",
    "plt.plot(range(1, len(val_loss) + 1), val_loss, label='Validation Loss')\n",
    "\n",
    "plt.title('Training and Validation Loss')\n",
    "plt.xlabel('Epoch')\n",
    "plt.ylabel('Loss')\n",
    "plt.legend()\n",
    "plt.show()"
   ]
  },
  {
   "cell_type": "code",
   "execution_count": 24,
   "id": "87bb9570",
   "metadata": {},
   "outputs": [],
   "source": [
    "preds=np.argmax(prdictions,axis=1)"
   ]
  },
  {
   "cell_type": "code",
   "execution_count": 27,
   "id": "ab2f201e",
   "metadata": {},
   "outputs": [],
   "source": [
    "act=test_data.classes\n"
   ]
  },
  {
   "cell_type": "code",
   "execution_count": 33,
   "id": "3ef585cc",
   "metadata": {},
   "outputs": [],
   "source": [
    "from sklearn.metrics import classification_report,confusion_matrix,accuracy_score"
   ]
  },
  {
   "cell_type": "code",
   "execution_count": 31,
   "id": "e924282e",
   "metadata": {},
   "outputs": [
    {
     "name": "stdout",
     "output_type": "stream",
     "text": [
      "              precision    recall  f1-score   support\n",
      "\n",
      "           0       0.11      0.11      0.11      1498\n",
      "           1       0.11      0.11      0.11      1500\n",
      "           2       0.10      0.10      0.10      1501\n",
      "           3       0.11      0.11      0.11      1501\n",
      "           4       0.11      0.11      0.11      1501\n",
      "           5       0.11      0.11      0.11      1501\n",
      "           6       0.10      0.10      0.10      1501\n",
      "           7       0.11      0.10      0.11      1501\n",
      "           8       0.11      0.12      0.12      1501\n",
      "\n",
      "    accuracy                           0.11     13505\n",
      "   macro avg       0.11      0.11      0.11     13505\n",
      "weighted avg       0.11      0.11      0.11     13505\n",
      "\n"
     ]
    }
   ],
   "source": [
    "print(classification_report(act,preds))"
   ]
  },
  {
   "cell_type": "code",
   "execution_count": 32,
   "id": "6705fa2e",
   "metadata": {},
   "outputs": [
    {
     "data": {
      "text/plain": [
       "array([[165, 192, 162, 153, 172, 171, 156, 153, 174],\n",
       "       [175, 166, 172, 161, 170, 147, 180, 155, 174],\n",
       "       [172, 146, 157, 170, 187, 160, 175, 154, 180],\n",
       "       [175, 181, 185, 168, 147, 156, 180, 145, 164],\n",
       "       [157, 160, 181, 143, 159, 181, 181, 156, 183],\n",
       "       [160, 175, 166, 171, 182, 161, 151, 160, 175],\n",
       "       [175, 148, 151, 177, 158, 182, 149, 175, 186],\n",
       "       [171, 178, 177, 153, 157, 165, 157, 157, 186],\n",
       "       [145, 167, 147, 194, 168, 171, 169, 160, 180]], dtype=int64)"
      ]
     },
     "execution_count": 32,
     "metadata": {},
     "output_type": "execute_result"
    }
   ],
   "source": [
    "confusion_matrix(act,preds)"
   ]
  },
  {
   "cell_type": "code",
   "execution_count": 34,
   "id": "aa0a92b8",
   "metadata": {},
   "outputs": [
    {
     "data": {
      "text/plain": [
       "0.10825620140688634"
      ]
     },
     "execution_count": 34,
     "metadata": {},
     "output_type": "execute_result"
    }
   ],
   "source": [
    "accuracy_score(act,preds)"
   ]
  },
  {
   "cell_type": "code",
   "execution_count": 35,
   "id": "9101430c",
   "metadata": {},
   "outputs": [
    {
     "data": {
      "image/png": "[encoded data removed]",
      "text/plain": [
       "<Figure size 640x480 with 1 Axes>"
      ]
     },
     "metadata": {},
     "output_type": "display_data"
    }
   ],
   "source": [
    "import matplotlib.pyplot as plt\n",
    "\n",
    "# Assuming 'history' is the variable storing the training history\n",
    "train_accuracy = history.history['accuracy']  # Replace 'accuracy' with your actual metric name\n",
    "val_accuracy = history.history['val_accuracy']  # Replace 'val_accuracy' with your actual metric name\n",
    "\n",
    "# Plotting training and validation accuracy over epochs\n",
    "plt.plot(range(1, len(train_accuracy) + 1), train_accuracy, label='Training Accuracy')\n",
    "plt.plot(range(1, len(val_accuracy) + 1), val_accuracy, label='Validation Accuracy')\n",
    "\n",
    "plt.title('Training and Validation Accuracy')\n",
    "plt.xlabel('Epoch')\n",
    "plt.ylabel('Accuracy')\n",
    "plt.legend()\n",
    "plt.show()"
   ]
  },
  {
   "cell_type": "code",
   "execution_count": null,
   "id": "2d323e1c",
   "metadata": {},
   "outputs": [],
   "source": []
  }
 ],
 "metadata": {
  "kernelspec": {
   "display_name": "Python 3 (ipykernel)",
   "language": "python",
   "name": "python3"
  },
  "language_info": {
   "codemirror_mode": {
    "name": "ipython",
    "version": 3
   },
   "file_extension": ".py",
   "mimetype": "text/x-python",
   "name": "python",
   "nbconvert_exporter": "python",
   "pygments_lexer": "ipython3",
   "version": "3.11.5"
  }
 },
 "nbformat": 4,
 "nbformat_minor": 5
}
