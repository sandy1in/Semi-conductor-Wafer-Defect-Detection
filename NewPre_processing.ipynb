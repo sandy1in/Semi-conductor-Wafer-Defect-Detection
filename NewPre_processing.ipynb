{
 "cells": [
  {
   "cell_type": "code",
   "execution_count": 106,
   "metadata": {
    "_cell_guid": "b1076dfc-b9ad-4769-8c92-a6c4dae69d19",
    "_uuid": "8f2839f25d086af736a60e9eeb907d3b93b6e0e5",
    "execution": {
     "iopub.execute_input": "2022-04-12T01:54:45.489035Z",
     "iopub.status.busy": "2022-04-12T01:54:45.488645Z",
     "iopub.status.idle": "2022-04-12T01:54:45.527326Z",
     "shell.execute_reply": "2022-04-12T01:54:45.526437Z",
     "shell.execute_reply.started": "2022-04-12T01:54:45.488935Z"
    }
   },
   "outputs": [],
   "source": [
    "import numpy as np # linear algebra\n",
    "import pandas as pd # data processing, CSV file I/O (e.g. pd.read_csv)\n",
    "import os\n",
    "from PIL import Image\n",
    "import cv2 as cv"
   ]
  },
  {
   "cell_type": "code",
   "execution_count": 2,
   "metadata": {
    "execution": {
     "iopub.execute_input": "2022-04-12T01:54:45.532071Z",
     "iopub.status.busy": "2022-04-12T01:54:45.531859Z",
     "iopub.status.idle": "2022-04-12T01:54:47.671170Z",
     "shell.execute_reply": "2022-04-12T01:54:47.670345Z",
     "shell.execute_reply.started": "2022-04-12T01:54:45.532045Z"
    }
   },
   "outputs": [],
   "source": [
    "import imgaug as ia\n",
    "import imgaug.augmenters as iaa\n",
    "import matplotlib.pyplot as plt\n",
    "%matplotlib inline\n",
    "\n",
    "from sklearn.model_selection import train_test_split\n",
    "from sklearn.preprocessing import OneHotEncoder"
   ]
  },
  {
   "cell_type": "code",
   "execution_count": 38,
   "metadata": {
    "execution": {
     "iopub.execute_input": "2022-04-12T01:54:47.673531Z",
     "iopub.status.busy": "2022-04-12T01:54:47.673250Z",
     "iopub.status.idle": "2022-04-12T01:56:29.741115Z",
     "shell.execute_reply": "2022-04-12T01:56:29.739356Z",
     "shell.execute_reply.started": "2022-04-12T01:54:47.673494Z"
    }
   },
   "outputs": [
    {
     "name": "stdout",
     "output_type": "stream",
     "text": [
      "<class 'pandas.core.frame.DataFrame'>\n",
      "RangeIndex: 811457 entries, 0 to 811456\n",
      "Data columns (total 6 columns):\n",
      " #   Column          Non-Null Count   Dtype  \n",
      "---  ------          --------------   -----  \n",
      " 0   dieSize         811457 non-null  float64\n",
      " 1   failureType     811457 non-null  object \n",
      " 2   lotName         811457 non-null  object \n",
      " 3   trainTestLabel  811457 non-null  object \n",
      " 4   waferIndex      811457 non-null  float64\n",
      " 5   waferMap        811457 non-null  object \n",
      "dtypes: float64(2), object(4)\n",
      "memory usage: 37.1+ MB\n"
     ]
    }
   ],
   "source": [
    "df = pd.read_pickle(\"MIR-WM811K\\\\Python\\\\WM811K.pkl\")\n",
    "df.info()"
   ]
  },
  {
   "cell_type": "code",
   "execution_count": 39,
   "metadata": {
    "execution": {
     "iopub.execute_input": "2022-04-12T01:56:29.743049Z",
     "iopub.status.busy": "2022-04-12T01:56:29.742664Z",
     "iopub.status.idle": "2022-04-12T01:56:29.929741Z",
     "shell.execute_reply": "2022-04-12T01:56:29.928969Z",
     "shell.execute_reply.started": "2022-04-12T01:56:29.743005Z"
    }
   },
   "outputs": [
    {
     "data": {
      "text/html": [
       "<div>\n",
       "<style scoped>\n",
       "    .dataframe tbody tr th:only-of-type {\n",
       "        vertical-align: middle;\n",
       "    }\n",
       "\n",
       "    .dataframe tbody tr th {\n",
       "        vertical-align: top;\n",
       "    }\n",
       "\n",
       "    .dataframe thead th {\n",
       "        text-align: right;\n",
       "    }\n",
       "</style>\n",
       "<table border=\"1\" class=\"dataframe\">\n",
       "  <thead>\n",
       "    <tr style=\"text-align: right;\">\n",
       "      <th></th>\n",
       "      <th>dieSize</th>\n",
       "      <th>failureType</th>\n",
       "      <th>lotName</th>\n",
       "      <th>trainTestLabel</th>\n",
       "      <th>waferIndex</th>\n",
       "      <th>waferMap</th>\n",
       "    </tr>\n",
       "  </thead>\n",
       "  <tbody>\n",
       "    <tr>\n",
       "      <th>0</th>\n",
       "      <td>1683.0</td>\n",
       "      <td>none</td>\n",
       "      <td>lot1</td>\n",
       "      <td>Training</td>\n",
       "      <td>1.0</td>\n",
       "      <td>[[0, 0, 0, 0, 0, 0, 0, 0, 0, 0, 0, 0, 0, 0, 0,...</td>\n",
       "    </tr>\n",
       "    <tr>\n",
       "      <th>1</th>\n",
       "      <td>1683.0</td>\n",
       "      <td>none</td>\n",
       "      <td>lot1</td>\n",
       "      <td>Training</td>\n",
       "      <td>2.0</td>\n",
       "      <td>[[0, 0, 0, 0, 0, 0, 0, 0, 0, 0, 0, 0, 0, 0, 0,...</td>\n",
       "    </tr>\n",
       "    <tr>\n",
       "      <th>2</th>\n",
       "      <td>1683.0</td>\n",
       "      <td>none</td>\n",
       "      <td>lot1</td>\n",
       "      <td>Training</td>\n",
       "      <td>3.0</td>\n",
       "      <td>[[0, 0, 0, 0, 0, 0, 0, 0, 0, 0, 0, 0, 0, 0, 0,...</td>\n",
       "    </tr>\n",
       "    <tr>\n",
       "      <th>3</th>\n",
       "      <td>1683.0</td>\n",
       "      <td>none</td>\n",
       "      <td>lot1</td>\n",
       "      <td>Training</td>\n",
       "      <td>4.0</td>\n",
       "      <td>[[0, 0, 0, 0, 0, 0, 0, 0, 0, 0, 0, 0, 0, 0, 0,...</td>\n",
       "    </tr>\n",
       "    <tr>\n",
       "      <th>4</th>\n",
       "      <td>1683.0</td>\n",
       "      <td>none</td>\n",
       "      <td>lot1</td>\n",
       "      <td>Training</td>\n",
       "      <td>5.0</td>\n",
       "      <td>[[0, 0, 0, 0, 0, 0, 0, 0, 0, 0, 0, 0, 0, 0, 0,...</td>\n",
       "    </tr>\n",
       "  </tbody>\n",
       "</table>\n",
       "</div>"
      ],
      "text/plain": [
       "   dieSize failureType lotName trainTestLabel  waferIndex  \\\n",
       "0   1683.0        none    lot1       Training         1.0   \n",
       "1   1683.0        none    lot1       Training         2.0   \n",
       "2   1683.0        none    lot1       Training         3.0   \n",
       "3   1683.0        none    lot1       Training         4.0   \n",
       "4   1683.0        none    lot1       Training         5.0   \n",
       "\n",
       "                                            waferMap  \n",
       "0  [[0, 0, 0, 0, 0, 0, 0, 0, 0, 0, 0, 0, 0, 0, 0,...  \n",
       "1  [[0, 0, 0, 0, 0, 0, 0, 0, 0, 0, 0, 0, 0, 0, 0,...  \n",
       "2  [[0, 0, 0, 0, 0, 0, 0, 0, 0, 0, 0, 0, 0, 0, 0,...  \n",
       "3  [[0, 0, 0, 0, 0, 0, 0, 0, 0, 0, 0, 0, 0, 0, 0,...  \n",
       "4  [[0, 0, 0, 0, 0, 0, 0, 0, 0, 0, 0, 0, 0, 0, 0,...  "
      ]
     },
     "execution_count": 39,
     "metadata": {},
     "output_type": "execute_result"
    }
   ],
   "source": [
    "df.head()"
   ]
  },
  {
   "cell_type": "code",
   "execution_count": 40,
   "metadata": {
    "execution": {
     "iopub.execute_input": "2022-04-12T01:56:29.933466Z",
     "iopub.status.busy": "2022-04-12T01:56:29.931857Z",
     "iopub.status.idle": "2022-04-12T01:56:30.023052Z",
     "shell.execute_reply": "2022-04-12T01:56:30.022369Z",
     "shell.execute_reply.started": "2022-04-12T01:56:29.933419Z"
    }
   },
   "outputs": [
    {
     "data": {
      "text/html": [
       "<div>\n",
       "<style scoped>\n",
       "    .dataframe tbody tr th:only-of-type {\n",
       "        vertical-align: middle;\n",
       "    }\n",
       "\n",
       "    .dataframe tbody tr th {\n",
       "        vertical-align: top;\n",
       "    }\n",
       "\n",
       "    .dataframe thead th {\n",
       "        text-align: right;\n",
       "    }\n",
       "</style>\n",
       "<table border=\"1\" class=\"dataframe\">\n",
       "  <thead>\n",
       "    <tr style=\"text-align: right;\">\n",
       "      <th></th>\n",
       "      <th>dieSize</th>\n",
       "      <th>failureType</th>\n",
       "      <th>lotName</th>\n",
       "      <th>trainTestLabel</th>\n",
       "      <th>waferIndex</th>\n",
       "      <th>waferMap</th>\n",
       "    </tr>\n",
       "  </thead>\n",
       "  <tbody>\n",
       "    <tr>\n",
       "      <th>811452</th>\n",
       "      <td>600.0</td>\n",
       "      <td>Edge-Ring</td>\n",
       "      <td>lot47542</td>\n",
       "      <td>Test</td>\n",
       "      <td>23.0</td>\n",
       "      <td>[[0, 0, 0, 0, 0, 0, 0, 0, 0, 0, 0, 1, 2, 1, 1,...</td>\n",
       "    </tr>\n",
       "    <tr>\n",
       "      <th>811453</th>\n",
       "      <td>600.0</td>\n",
       "      <td>Edge-Loc</td>\n",
       "      <td>lot47542</td>\n",
       "      <td>Test</td>\n",
       "      <td>24.0</td>\n",
       "      <td>[[0, 0, 0, 0, 0, 0, 0, 0, 0, 0, 0, 2, 2, 1, 1,...</td>\n",
       "    </tr>\n",
       "    <tr>\n",
       "      <th>811454</th>\n",
       "      <td>600.0</td>\n",
       "      <td>Edge-Ring</td>\n",
       "      <td>lot47542</td>\n",
       "      <td>Test</td>\n",
       "      <td>25.0</td>\n",
       "      <td>[[0, 0, 0, 0, 0, 0, 0, 0, 0, 0, 0, 1, 2, 1, 1,...</td>\n",
       "    </tr>\n",
       "    <tr>\n",
       "      <th>811455</th>\n",
       "      <td>600.0</td>\n",
       "      <td>[0, 0]</td>\n",
       "      <td>lot47543</td>\n",
       "      <td>[0, 0]</td>\n",
       "      <td>1.0</td>\n",
       "      <td>[[0, 0, 0, 0, 0, 0, 0, 0, 0, 0, 0, 1, 1, 1, 1,...</td>\n",
       "    </tr>\n",
       "    <tr>\n",
       "      <th>811456</th>\n",
       "      <td>600.0</td>\n",
       "      <td>[0, 0]</td>\n",
       "      <td>lot47543</td>\n",
       "      <td>[0, 0]</td>\n",
       "      <td>2.0</td>\n",
       "      <td>[[0, 0, 0, 0, 0, 0, 0, 0, 0, 0, 0, 1, 2, 1, 1,...</td>\n",
       "    </tr>\n",
       "  </tbody>\n",
       "</table>\n",
       "</div>"
      ],
      "text/plain": [
       "        dieSize failureType   lotName trainTestLabel  waferIndex  \\\n",
       "811452    600.0   Edge-Ring  lot47542           Test        23.0   \n",
       "811453    600.0    Edge-Loc  lot47542           Test        24.0   \n",
       "811454    600.0   Edge-Ring  lot47542           Test        25.0   \n",
       "811455    600.0      [0, 0]  lot47543         [0, 0]         1.0   \n",
       "811456    600.0      [0, 0]  lot47543         [0, 0]         2.0   \n",
       "\n",
       "                                                 waferMap  \n",
       "811452  [[0, 0, 0, 0, 0, 0, 0, 0, 0, 0, 0, 1, 2, 1, 1,...  \n",
       "811453  [[0, 0, 0, 0, 0, 0, 0, 0, 0, 0, 0, 2, 2, 1, 1,...  \n",
       "811454  [[0, 0, 0, 0, 0, 0, 0, 0, 0, 0, 0, 1, 2, 1, 1,...  \n",
       "811455  [[0, 0, 0, 0, 0, 0, 0, 0, 0, 0, 0, 1, 1, 1, 1,...  \n",
       "811456  [[0, 0, 0, 0, 0, 0, 0, 0, 0, 0, 0, 1, 2, 1, 1,...  "
      ]
     },
     "execution_count": 40,
     "metadata": {},
     "output_type": "execute_result"
    }
   ],
   "source": [
    "df.tail()"
   ]
  },
  {
   "cell_type": "code",
   "execution_count": null,
   "metadata": {
    "execution": {
     "iopub.execute_input": "2022-04-12T01:56:30.025017Z",
     "iopub.status.busy": "2022-04-12T01:56:30.024533Z",
     "iopub.status.idle": "2022-04-12T01:56:30.306008Z",
     "shell.execute_reply": "2022-04-12T01:56:30.305187Z",
     "shell.execute_reply.started": "2022-04-12T01:56:30.024975Z"
    },
    "scrolled": true
   },
   "outputs": [],
   "source": [
    "unique_index = np.unique(df.waferIndex, return_counts=True)\n"
   ]
  },
  {
   "cell_type": "code",
   "execution_count": 42,
   "metadata": {
    "execution": {
     "iopub.execute_input": "2022-04-12T01:56:30.307758Z",
     "iopub.status.busy": "2022-04-12T01:56:30.307503Z",
     "iopub.status.idle": "2022-04-12T01:56:32.719831Z",
     "shell.execute_reply": "2022-04-12T01:56:32.719122Z",
     "shell.execute_reply.started": "2022-04-12T01:56:30.307722Z"
    }
   },
   "outputs": [
    {
     "data": {
      "text/html": [
       "<div>\n",
       "<style scoped>\n",
       "    .dataframe tbody tr th:only-of-type {\n",
       "        vertical-align: middle;\n",
       "    }\n",
       "\n",
       "    .dataframe tbody tr th {\n",
       "        vertical-align: top;\n",
       "    }\n",
       "\n",
       "    .dataframe thead th {\n",
       "        text-align: right;\n",
       "    }\n",
       "</style>\n",
       "<table border=\"1\" class=\"dataframe\">\n",
       "  <thead>\n",
       "    <tr style=\"text-align: right;\">\n",
       "      <th></th>\n",
       "      <th>dieSize</th>\n",
       "      <th>failureType</th>\n",
       "      <th>lotName</th>\n",
       "      <th>trainTestLabel</th>\n",
       "      <th>waferIndex</th>\n",
       "      <th>waferMap</th>\n",
       "      <th>waferMapDim</th>\n",
       "    </tr>\n",
       "  </thead>\n",
       "  <tbody>\n",
       "    <tr>\n",
       "      <th>135210</th>\n",
       "      <td>1620.0</td>\n",
       "      <td>[0, 0]</td>\n",
       "      <td>lot8838</td>\n",
       "      <td>[0, 0]</td>\n",
       "      <td>24.0</td>\n",
       "      <td>[[0, 0, 0, 0, 0, 0, 0, 0, 0, 0, 0, 0, 0, 0, 0,...</td>\n",
       "      <td>(37, 55)</td>\n",
       "    </tr>\n",
       "    <tr>\n",
       "      <th>601545</th>\n",
       "      <td>1513.0</td>\n",
       "      <td>[0, 0]</td>\n",
       "      <td>lot37836</td>\n",
       "      <td>[0, 0]</td>\n",
       "      <td>22.0</td>\n",
       "      <td>[[0, 0, 0, 0, 0, 0, 0, 0, 0, 0, 0, 0, 0, 0, 0,...</td>\n",
       "      <td>(49, 39)</td>\n",
       "    </tr>\n",
       "    <tr>\n",
       "      <th>763443</th>\n",
       "      <td>1108.0</td>\n",
       "      <td>none</td>\n",
       "      <td>lot45587</td>\n",
       "      <td>Test</td>\n",
       "      <td>24.0</td>\n",
       "      <td>[[0, 0, 0, 0, 0, 0, 0, 0, 0, 0, 0, 0, 0, 0, 2,...</td>\n",
       "      <td>(39, 37)</td>\n",
       "    </tr>\n",
       "    <tr>\n",
       "      <th>139988</th>\n",
       "      <td>811.0</td>\n",
       "      <td>[0, 0]</td>\n",
       "      <td>lot9097</td>\n",
       "      <td>[0, 0]</td>\n",
       "      <td>15.0</td>\n",
       "      <td>[[0, 0, 0, 0, 0, 0, 0, 0, 0, 0, 0, 0, 0, 1, 1,...</td>\n",
       "      <td>(34, 31)</td>\n",
       "    </tr>\n",
       "    <tr>\n",
       "      <th>666137</th>\n",
       "      <td>712.0</td>\n",
       "      <td>[0, 0]</td>\n",
       "      <td>lot41474</td>\n",
       "      <td>[0, 0]</td>\n",
       "      <td>20.0</td>\n",
       "      <td>[[0, 0, 0, 0, 0, 0, 0, 0, 0, 0, 0, 0, 1, 1, 2,...</td>\n",
       "      <td>(32, 29)</td>\n",
       "    </tr>\n",
       "  </tbody>\n",
       "</table>\n",
       "</div>"
      ],
      "text/plain": [
       "        dieSize failureType   lotName trainTestLabel  waferIndex  \\\n",
       "135210   1620.0      [0, 0]   lot8838         [0, 0]        24.0   \n",
       "601545   1513.0      [0, 0]  lot37836         [0, 0]        22.0   \n",
       "763443   1108.0        none  lot45587           Test        24.0   \n",
       "139988    811.0      [0, 0]   lot9097         [0, 0]        15.0   \n",
       "666137    712.0      [0, 0]  lot41474         [0, 0]        20.0   \n",
       "\n",
       "                                                 waferMap waferMapDim  \n",
       "135210  [[0, 0, 0, 0, 0, 0, 0, 0, 0, 0, 0, 0, 0, 0, 0,...    (37, 55)  \n",
       "601545  [[0, 0, 0, 0, 0, 0, 0, 0, 0, 0, 0, 0, 0, 0, 0,...    (49, 39)  \n",
       "763443  [[0, 0, 0, 0, 0, 0, 0, 0, 0, 0, 0, 0, 0, 0, 2,...    (39, 37)  \n",
       "139988  [[0, 0, 0, 0, 0, 0, 0, 0, 0, 0, 0, 0, 0, 1, 1,...    (34, 31)  \n",
       "666137  [[0, 0, 0, 0, 0, 0, 0, 0, 0, 0, 0, 0, 1, 1, 2,...    (32, 29)  "
      ]
     },
     "execution_count": 42,
     "metadata": {},
     "output_type": "execute_result"
    }
   ],
   "source": [
    "def find_dim(x):\n",
    "    dim0 = np.size(x, axis=0)\n",
    "    dim1 = np.size(x, axis=1)\n",
    "    return (dim0, dim1)\n",
    "\n",
    "df['waferMapDim'] = df.waferMap.apply(find_dim)\n",
    "df.sample(5)"
   ]
  },
  {
   "cell_type": "code",
   "execution_count": 43,
   "metadata": {
    "execution": {
     "iopub.execute_input": "2022-04-12T01:56:32.721906Z",
     "iopub.status.busy": "2022-04-12T01:56:32.721390Z",
     "iopub.status.idle": "2022-04-12T01:56:33.001742Z",
     "shell.execute_reply": "2022-04-12T01:56:33.000730Z",
     "shell.execute_reply.started": "2022-04-12T01:56:32.721866Z"
    }
   },
   "outputs": [
    {
     "data": {
      "text/plain": [
       "((300, 202), (6, 21))"
      ]
     },
     "execution_count": 43,
     "metadata": {},
     "output_type": "execute_result"
    }
   ],
   "source": [
    "max(df['waferMapDim']), min(df['waferMapDim'])"
   ]
  },
  {
   "cell_type": "code",
   "execution_count": 44,
   "metadata": {
    "execution": {
     "iopub.execute_input": "2022-04-12T01:56:33.003910Z",
     "iopub.status.busy": "2022-04-12T01:56:33.003524Z",
     "iopub.status.idle": "2022-04-12T01:56:34.318911Z",
     "shell.execute_reply": "2022-04-12T01:56:34.318179Z",
     "shell.execute_reply.started": "2022-04-12T01:56:33.003848Z"
    }
   },
   "outputs": [
    {
     "data": {
      "text/plain": [
       "(632,)"
      ]
     },
     "execution_count": 44,
     "metadata": {},
     "output_type": "execute_result"
    }
   ],
   "source": [
    "unique_waferDim = np.unique(df['waferMapDim'])\n",
    "unique_waferDim.shape"
   ]
  },
  {
   "cell_type": "code",
   "execution_count": 45,
   "metadata": {
    "execution": {
     "iopub.execute_input": "2022-04-12T01:56:34.320680Z",
     "iopub.status.busy": "2022-04-12T01:56:34.320412Z",
     "iopub.status.idle": "2022-04-12T01:56:57.238167Z",
     "shell.execute_reply": "2022-04-12T01:56:57.237349Z",
     "shell.execute_reply.started": "2022-04-12T01:56:34.320644Z"
    }
   },
   "outputs": [
    {
     "name": "stderr",
     "output_type": "stream",
     "text": [
      "C:\\Users\\User\\anaconda3\\Lib\\site-packages\\pandas\\core\\array_algos\\replace.py:84: FutureWarning: elementwise comparison failed; returning scalar instead, but in the future will perform elementwise comparison\n",
      "  op = lambda x: operator.eq(x, b)\n"
     ]
    }
   ],
   "source": [
    "df['failureNum']=df.failureType\n",
    "df['trainTestNum']=df.trainTestLabel\n",
    "\n",
    "mapping_type={\n",
    "    'Center':0,\n",
    "    'Donut':1,\n",
    "    'Edge-Loc':2,\n",
    "    'Edge-Ring':3,\n",
    "    'Loc':4,\n",
    "    'Random':5,\n",
    "    'Scratch':6,\n",
    "    'Near-full':7,\n",
    "    'none':8}\n",
    "mapping_traintest={'Training':0,'Test':1}\n",
    "df=df.replace({'failureNum':mapping_type, 'trainTestNum':mapping_traintest})"
   ]
  },
  {
   "cell_type": "code",
   "execution_count": 46,
   "metadata": {},
   "outputs": [],
   "source": [
    "newData = df[df['failureNum'].apply(lambda x: isinstance(x, int))]"
   ]
  },
  {
   "cell_type": "code",
   "execution_count": 47,
   "metadata": {
    "execution": {
     "iopub.execute_input": "2022-04-12T01:56:57.241636Z",
     "iopub.status.busy": "2022-04-12T01:56:57.241357Z",
     "iopub.status.idle": "2022-04-12T01:57:11.380920Z",
     "shell.execute_reply": "2022-04-12T01:57:11.380168Z",
     "shell.execute_reply.started": "2022-04-12T01:56:57.241599Z"
    }
   },
   "outputs": [
    {
     "data": {
      "text/plain": [
       "(172950, 25519, 147431)"
      ]
     },
     "execution_count": 47,
     "metadata": {},
     "output_type": "execute_result"
    }
   ],
   "source": [
    "df_label = newData[(newData['failureNum']>=0) & (newData['failureNum']<=8)]\n",
    "df_label = df_label.reset_index()\n",
    "df_pattern = newData[(newData['failureNum']>=0) & (newData['failureNum']<=7)]\n",
    "df_pattern = df_pattern.reset_index()\n",
    "df_none = newData[(newData['failureNum']==8)]\n",
    "\n",
    "df_label.shape[0], df_pattern.shape[0], df_none.shape[0]"
   ]
  },
  {
   "cell_type": "code",
   "execution_count": 48,
   "metadata": {
    "execution": {
     "iopub.execute_input": "2022-04-12T01:57:11.382944Z",
     "iopub.status.busy": "2022-04-12T01:57:11.382445Z",
     "iopub.status.idle": "2022-04-12T01:57:11.389166Z",
     "shell.execute_reply": "2022-04-12T01:57:11.388287Z",
     "shell.execute_reply.started": "2022-04-12T01:57:11.382902Z"
    }
   },
   "outputs": [
    {
     "data": {
      "text/plain": [
       "811457"
      ]
     },
     "execution_count": 48,
     "metadata": {},
     "output_type": "execute_result"
    }
   ],
   "source": [
    "tol_wafers = df.shape[0]\n",
    "tol_wafers"
   ]
  },
  {
   "cell_type": "code",
   "execution_count": null,
   "metadata": {
    "execution": {
     "iopub.execute_input": "2022-04-12T01:57:22.025152Z",
     "iopub.status.busy": "2022-04-12T01:57:22.024606Z",
     "iopub.status.idle": "2022-04-12T01:57:22.114253Z",
     "shell.execute_reply": "2022-04-12T01:57:22.113387Z",
     "shell.execute_reply.started": "2022-04-12T01:57:22.025106Z"
    }
   },
   "outputs": [],
   "source": [
    "del df\n",
    "del df_pattern\n",
    "del df_none"
   ]
  },
  {
   "cell_type": "code",
   "execution_count": 54,
   "metadata": {
    "execution": {
     "iopub.execute_input": "2022-04-12T01:57:22.116547Z",
     "iopub.status.busy": "2022-04-12T01:57:22.115956Z",
     "iopub.status.idle": "2022-04-12T01:57:26.830555Z",
     "shell.execute_reply": "2022-04-12T01:57:26.829599Z",
     "shell.execute_reply.started": "2022-04-12T01:57:22.116502Z"
    }
   },
   "outputs": [
    {
     "name": "stdout",
     "output_type": "stream",
     "text": [
      "WARNING:tensorflow:From C:\\Users\\User\\anaconda3\\Lib\\site-packages\\keras\\src\\losses.py:2976: The name tf.losses.sparse_softmax_cross_entropy is deprecated. Please use tf.compat.v1.losses.sparse_softmax_cross_entropy instead.\n",
      "\n"
     ]
    }
   ],
   "source": [
    "import matplotlib.pyplot as plt\n",
    "from tensorflow.keras.layers import Input, Conv2D, Dense, MaxPool2D\n",
    "from tensorflow.keras.layers import Flatten, Softmax, SpatialDropout2D\n",
    "from tensorflow.keras.layers import BatchNormalization\n",
    "from tensorflow.keras.models import Sequential\n",
    "from tensorflow.keras.optimizers import Adam"
   ]
  },
  {
   "cell_type": "code",
   "execution_count": 57,
   "metadata": {
    "scrolled": true
   },
   "outputs": [
    {
     "data": {
      "text/html": [
       "<div>\n",
       "<style scoped>\n",
       "    .dataframe tbody tr th:only-of-type {\n",
       "        vertical-align: middle;\n",
       "    }\n",
       "\n",
       "    .dataframe tbody tr th {\n",
       "        vertical-align: top;\n",
       "    }\n",
       "\n",
       "    .dataframe thead th {\n",
       "        text-align: right;\n",
       "    }\n",
       "</style>\n",
       "<table border=\"1\" class=\"dataframe\">\n",
       "  <thead>\n",
       "    <tr style=\"text-align: right;\">\n",
       "      <th></th>\n",
       "      <th>Unnamed: 0</th>\n",
       "      <th>Type</th>\n",
       "      <th>Value</th>\n",
       "    </tr>\n",
       "  </thead>\n",
       "  <tbody>\n",
       "    <tr>\n",
       "      <th>0</th>\n",
       "      <td>0</td>\n",
       "      <td>Center</td>\n",
       "      <td>0</td>\n",
       "    </tr>\n",
       "    <tr>\n",
       "      <th>1</th>\n",
       "      <td>1</td>\n",
       "      <td>Donut</td>\n",
       "      <td>1</td>\n",
       "    </tr>\n",
       "    <tr>\n",
       "      <th>2</th>\n",
       "      <td>2</td>\n",
       "      <td>Edge-Loc</td>\n",
       "      <td>2</td>\n",
       "    </tr>\n",
       "    <tr>\n",
       "      <th>3</th>\n",
       "      <td>3</td>\n",
       "      <td>Edge-Ring</td>\n",
       "      <td>3</td>\n",
       "    </tr>\n",
       "    <tr>\n",
       "      <th>4</th>\n",
       "      <td>4</td>\n",
       "      <td>Loc</td>\n",
       "      <td>4</td>\n",
       "    </tr>\n",
       "    <tr>\n",
       "      <th>5</th>\n",
       "      <td>5</td>\n",
       "      <td>Random</td>\n",
       "      <td>5</td>\n",
       "    </tr>\n",
       "    <tr>\n",
       "      <th>6</th>\n",
       "      <td>6</td>\n",
       "      <td>Scratch</td>\n",
       "      <td>6</td>\n",
       "    </tr>\n",
       "    <tr>\n",
       "      <th>7</th>\n",
       "      <td>7</td>\n",
       "      <td>Near-full</td>\n",
       "      <td>7</td>\n",
       "    </tr>\n",
       "    <tr>\n",
       "      <th>8</th>\n",
       "      <td>8</td>\n",
       "      <td>none</td>\n",
       "      <td>8</td>\n",
       "    </tr>\n",
       "  </tbody>\n",
       "</table>\n",
       "</div>"
      ],
      "text/plain": [
       "   Unnamed: 0       Type  Value\n",
       "0           0     Center      0\n",
       "1           1      Donut      1\n",
       "2           2   Edge-Loc      2\n",
       "3           3  Edge-Ring      3\n",
       "4           4        Loc      4\n",
       "5           5     Random      5\n",
       "6           6    Scratch      6\n",
       "7           7  Near-full      7\n",
       "8           8       none      8"
      ]
     },
     "execution_count": 57,
     "metadata": {},
     "output_type": "execute_result"
    }
   ],
   "source": [
    "map_encoding=pd.read_excel('MapEncoding.xlsx')\n",
    "map_encoding"
   ]
  },
  {
   "cell_type": "code",
   "execution_count": 58,
   "metadata": {},
   "outputs": [],
   "source": [
    "map_encoding.drop('Unnamed: 0',axis=1,inplace=True)"
   ]
  },
  {
   "cell_type": "code",
   "execution_count": 73,
   "metadata": {},
   "outputs": [],
   "source": [
    "dic=map_encoding.to_dict()\n",
    "dic=dic['Type']"
   ]
  },
  {
   "cell_type": "code",
   "execution_count": 153,
   "metadata": {
    "scrolled": false
   },
   "outputs": [
    {
     "data": {
      "text/html": [
       "<div>\n",
       "<style scoped>\n",
       "    .dataframe tbody tr th:only-of-type {\n",
       "        vertical-align: middle;\n",
       "    }\n",
       "\n",
       "    .dataframe tbody tr th {\n",
       "        vertical-align: top;\n",
       "    }\n",
       "\n",
       "    .dataframe thead th {\n",
       "        text-align: right;\n",
       "    }\n",
       "</style>\n",
       "<table border=\"1\" class=\"dataframe\">\n",
       "  <thead>\n",
       "    <tr style=\"text-align: right;\">\n",
       "      <th></th>\n",
       "      <th>index</th>\n",
       "      <th>dieSize</th>\n",
       "      <th>failureType</th>\n",
       "      <th>lotName</th>\n",
       "      <th>trainTestLabel</th>\n",
       "      <th>waferIndex</th>\n",
       "      <th>waferMap</th>\n",
       "      <th>waferMapDim</th>\n",
       "      <th>failureNum</th>\n",
       "      <th>trainTestNum</th>\n",
       "    </tr>\n",
       "  </thead>\n",
       "  <tbody>\n",
       "    <tr>\n",
       "      <th>20493</th>\n",
       "      <td>279838</td>\n",
       "      <td>1334.0</td>\n",
       "      <td>Donut</td>\n",
       "      <td>lot17174</td>\n",
       "      <td>Training</td>\n",
       "      <td>12.0</td>\n",
       "      <td>[[0, 0, 0, 0, 0, 0, 0, 0, 0, 0, 0, 0, 0, 0, 0,...</td>\n",
       "      <td>(41, 42)</td>\n",
       "      <td>1</td>\n",
       "      <td>0</td>\n",
       "    </tr>\n",
       "    <tr>\n",
       "      <th>20356</th>\n",
       "      <td>279259</td>\n",
       "      <td>1334.0</td>\n",
       "      <td>Donut</td>\n",
       "      <td>lot17141</td>\n",
       "      <td>Training</td>\n",
       "      <td>23.0</td>\n",
       "      <td>[[0, 0, 0, 0, 0, 0, 0, 0, 0, 0, 0, 0, 0, 0, 0,...</td>\n",
       "      <td>(41, 42)</td>\n",
       "      <td>1</td>\n",
       "      <td>0</td>\n",
       "    </tr>\n",
       "    <tr>\n",
       "      <th>126198</th>\n",
       "      <td>762985</td>\n",
       "      <td>1109.0</td>\n",
       "      <td>Donut</td>\n",
       "      <td>lot45569</td>\n",
       "      <td>Test</td>\n",
       "      <td>9.0</td>\n",
       "      <td>[[0, 0, 0, 0, 0, 0, 0, 0, 0, 0, 0, 0, 0, 0, 2,...</td>\n",
       "      <td>(39, 37)</td>\n",
       "      <td>1</td>\n",
       "      <td>1</td>\n",
       "    </tr>\n",
       "    <tr>\n",
       "      <th>20347</th>\n",
       "      <td>279232</td>\n",
       "      <td>1334.0</td>\n",
       "      <td>Donut</td>\n",
       "      <td>lot17139</td>\n",
       "      <td>Training</td>\n",
       "      <td>21.0</td>\n",
       "      <td>[[0, 0, 0, 0, 0, 0, 0, 0, 0, 0, 0, 0, 0, 0, 0,...</td>\n",
       "      <td>(41, 42)</td>\n",
       "      <td>1</td>\n",
       "      <td>0</td>\n",
       "    </tr>\n",
       "    <tr>\n",
       "      <th>8335</th>\n",
       "      <td>31704</td>\n",
       "      <td>3036.0</td>\n",
       "      <td>Donut</td>\n",
       "      <td>lot3108</td>\n",
       "      <td>Training</td>\n",
       "      <td>6.0</td>\n",
       "      <td>[[0, 0, 0, 0, 0, 0, 0, 0, 0, 0, 0, 0, 0, 0, 0,...</td>\n",
       "      <td>(63, 62)</td>\n",
       "      <td>1</td>\n",
       "      <td>0</td>\n",
       "    </tr>\n",
       "    <tr>\n",
       "      <th>134694</th>\n",
       "      <td>771845</td>\n",
       "      <td>1376.0</td>\n",
       "      <td>Donut</td>\n",
       "      <td>lot45929</td>\n",
       "      <td>Test</td>\n",
       "      <td>9.0</td>\n",
       "      <td>[[0, 0, 0, 0, 0, 0, 0, 0, 0, 0, 0, 0, 0, 0, 0,...</td>\n",
       "      <td>(44, 41)</td>\n",
       "      <td>1</td>\n",
       "      <td>1</td>\n",
       "    </tr>\n",
       "    <tr>\n",
       "      <th>51273</th>\n",
       "      <td>680765</td>\n",
       "      <td>838.0</td>\n",
       "      <td>Donut</td>\n",
       "      <td>lot42240</td>\n",
       "      <td>Test</td>\n",
       "      <td>15.0</td>\n",
       "      <td>[[0, 0, 0, 0, 0, 0, 0, 0, 0, 0, 0, 0, 0, 1, 1,...</td>\n",
       "      <td>(35, 31)</td>\n",
       "      <td>1</td>\n",
       "      <td>1</td>\n",
       "    </tr>\n",
       "    <tr>\n",
       "      <th>25146</th>\n",
       "      <td>439891</td>\n",
       "      <td>712.0</td>\n",
       "      <td>Donut</td>\n",
       "      <td>lot26738</td>\n",
       "      <td>Training</td>\n",
       "      <td>11.0</td>\n",
       "      <td>[[0, 0, 0, 0, 0, 0, 0, 0, 0, 0, 0, 0, 2, 1, 1,...</td>\n",
       "      <td>(32, 29)</td>\n",
       "      <td>1</td>\n",
       "      <td>0</td>\n",
       "    </tr>\n",
       "    <tr>\n",
       "      <th>20331</th>\n",
       "      <td>279135</td>\n",
       "      <td>1334.0</td>\n",
       "      <td>Donut</td>\n",
       "      <td>lot17134</td>\n",
       "      <td>Training</td>\n",
       "      <td>23.0</td>\n",
       "      <td>[[0, 0, 0, 0, 0, 0, 0, 0, 0, 0, 0, 0, 0, 0, 0,...</td>\n",
       "      <td>(41, 42)</td>\n",
       "      <td>1</td>\n",
       "      <td>0</td>\n",
       "    </tr>\n",
       "    <tr>\n",
       "      <th>6508</th>\n",
       "      <td>7335</td>\n",
       "      <td>1620.0</td>\n",
       "      <td>Donut</td>\n",
       "      <td>lot534</td>\n",
       "      <td>Training</td>\n",
       "      <td>7.0</td>\n",
       "      <td>[[0, 0, 0, 0, 0, 0, 0, 0, 0, 0, 0, 0, 0, 0, 0,...</td>\n",
       "      <td>(37, 55)</td>\n",
       "      <td>1</td>\n",
       "      <td>0</td>\n",
       "    </tr>\n",
       "  </tbody>\n",
       "</table>\n",
       "</div>"
      ],
      "text/plain": [
       "         index  dieSize failureType   lotName trainTestLabel  waferIndex  \\\n",
       "20493   279838   1334.0       Donut  lot17174       Training        12.0   \n",
       "20356   279259   1334.0       Donut  lot17141       Training        23.0   \n",
       "126198  762985   1109.0       Donut  lot45569           Test         9.0   \n",
       "20347   279232   1334.0       Donut  lot17139       Training        21.0   \n",
       "8335     31704   3036.0       Donut   lot3108       Training         6.0   \n",
       "134694  771845   1376.0       Donut  lot45929           Test         9.0   \n",
       "51273   680765    838.0       Donut  lot42240           Test        15.0   \n",
       "25146   439891    712.0       Donut  lot26738       Training        11.0   \n",
       "20331   279135   1334.0       Donut  lot17134       Training        23.0   \n",
       "6508      7335   1620.0       Donut    lot534       Training         7.0   \n",
       "\n",
       "                                                 waferMap waferMapDim  \\\n",
       "20493   [[0, 0, 0, 0, 0, 0, 0, 0, 0, 0, 0, 0, 0, 0, 0,...    (41, 42)   \n",
       "20356   [[0, 0, 0, 0, 0, 0, 0, 0, 0, 0, 0, 0, 0, 0, 0,...    (41, 42)   \n",
       "126198  [[0, 0, 0, 0, 0, 0, 0, 0, 0, 0, 0, 0, 0, 0, 2,...    (39, 37)   \n",
       "20347   [[0, 0, 0, 0, 0, 0, 0, 0, 0, 0, 0, 0, 0, 0, 0,...    (41, 42)   \n",
       "8335    [[0, 0, 0, 0, 0, 0, 0, 0, 0, 0, 0, 0, 0, 0, 0,...    (63, 62)   \n",
       "134694  [[0, 0, 0, 0, 0, 0, 0, 0, 0, 0, 0, 0, 0, 0, 0,...    (44, 41)   \n",
       "51273   [[0, 0, 0, 0, 0, 0, 0, 0, 0, 0, 0, 0, 0, 1, 1,...    (35, 31)   \n",
       "25146   [[0, 0, 0, 0, 0, 0, 0, 0, 0, 0, 0, 0, 2, 1, 1,...    (32, 29)   \n",
       "20331   [[0, 0, 0, 0, 0, 0, 0, 0, 0, 0, 0, 0, 0, 0, 0,...    (41, 42)   \n",
       "6508    [[0, 0, 0, 0, 0, 0, 0, 0, 0, 0, 0, 0, 0, 0, 0,...    (37, 55)   \n",
       "\n",
       "       failureNum trainTestNum  \n",
       "20493           1            0  \n",
       "20356           1            0  \n",
       "126198          1            1  \n",
       "20347           1            0  \n",
       "8335            1            0  \n",
       "134694          1            1  \n",
       "51273           1            1  \n",
       "25146           1            0  \n",
       "20331           1            0  \n",
       "6508            1            0  "
      ]
     },
     "execution_count": 153,
     "metadata": {},
     "output_type": "execute_result"
    }
   ],
   "source": [
    "df_label[df_label['failureNum'] == 1].sample(10)"
   ]
  },
  {
   "cell_type": "code",
   "execution_count": 86,
   "metadata": {
    "execution": {
     "iopub.execute_input": "2022-04-12T01:57:29.599442Z",
     "iopub.status.busy": "2022-04-12T01:57:29.599153Z",
     "iopub.status.idle": "2022-04-12T01:57:29.609239Z",
     "shell.execute_reply": "2022-04-12T01:57:29.608498Z",
     "shell.execute_reply.started": "2022-04-12T01:57:29.599402Z"
    }
   },
   "outputs": [],
   "source": [
    "\n",
    "\n",
    "def reshape_images(images, height, width):\n",
    "    reshaped_images = np.zeros((len(images), height, width, 3))\n",
    "    for n in range(len(images)):\n",
    "        for h in range(height):\n",
    "            for w in range(width):\n",
    "                reshaped_images[n, h, w, images[n][h][w]] = 1\n",
    "    return reshaped_images\n",
    "\n",
    "def augment_images(images, number=None):\n",
    "    seq = iaa.Sequential([\n",
    "        iaa.Fliplr(0.5),\n",
    "        iaa.Affine(\n",
    "            scale={\"x\": (0.8, 1.2), \"y\": (0.8, 1.2)},\n",
    "            translate_percent={\"x\": (-0.05, 0.05), \"y\": (-0.05, 0.05)},\n",
    "            rotate=(-180, 180),\n",
    "            shear=(-8, 8)\n",
    "        ),\n",
    "    ], random_order=True)\n",
    "    \n",
    "    images_input = np.random.choice(images, number) if number else images\n",
    "    images_expanded = []\n",
    "    for image in images_input:\n",
    "        images_expanded.append(image)\n",
    "    images_expanded = np.array(images_expanded)\n",
    "    images_augmented = seq(images=images_expanded)\n",
    "    return images_augmented"
   ]
  },
  {
   "cell_type": "code",
   "execution_count": 118,
   "metadata": {},
   "outputs": [
    {
     "data": {
      "text/plain": [
       "<matplotlib.image.AxesImage at 0x2721a360c90>"
      ]
     },
     "execution_count": 118,
     "metadata": {},
     "output_type": "execute_result"
    },
    {
     "data": {
      "image/png": "[encoded data removed]",
      "text/plain": [
       "<Figure size 640x480 with 1 Axes>"
      ]
     },
     "metadata": {},
     "output_type": "display_data"
    }
   ],
   "source": [
    "plt.imshow(reshaped[-1])"
   ]
  },
  {
   "cell_type": "code",
   "execution_count": 164,
   "metadata": {},
   "outputs": [],
   "source": [
    "output_path=\"NewAugmentation\"\n",
    "k=0\n",
    "for j in range(1):\n",
    "    x_train, y_train = [], []\n",
    "    for failureNum in range(class_num):\n",
    "        \n",
    "        folder_path=os.path.join(output_path,dic[failureNum])\n",
    "        os.makedirs(folder_path,exist_ok=True)\n",
    "        extracted = df_label[df_label['failureNum'] == failureNum].sample(20, replace=True).waferMap\n",
    "        resized = extracted.apply(lambda x:cv.resize(x, dsize=dsize, interpolation=cv.INTER_AREA))\n",
    "        del extracted\n",
    "        augmented = np.array(augment_images(resized))\n",
    "        reshaped = reshape_images(augmented, dsize[1], dsize[0])\n",
    "        del augmented\n",
    "        \n",
    "        \n",
    "        labels = np.zeros((count_per_class, class_num))\n",
    "        for i in range(count_per_class):\n",
    "            labels[i][failureNum] = 1\n",
    "        for img in reshaped:\n",
    "            k+=1\n",
    "            img_path=os.path.join(folder_path,f\"{dic[failureNum]}_{k}.png\")\n",
    "            img = Image.fromarray((img * 255).astype('uint8'))\n",
    "            img.save(img_path)\n",
    "        del reshaped\n",
    "\n",
    "    "
   ]
  },
  {
   "cell_type": "code",
   "execution_count": null,
   "metadata": {},
   "outputs": [],
   "source": []
  },
  {
   "cell_type": "code",
   "execution_count": 181,
   "metadata": {},
   "outputs": [],
   "source": [
    "validatio_path=\"data\\\\validation\"\n",
    "test_path=\"data\\\\test\"\n",
    "data=\"NewAugmentation\"\n",
    "train=\"data\\\\train\""
   ]
  },
  {
   "cell_type": "code",
   "execution_count": 177,
   "metadata": {},
   "outputs": [],
   "source": [
    "import os\n",
    "import random\n",
    "import shutil"
   ]
  },
  {
   "cell_type": "code",
   "execution_count": 182,
   "metadata": {},
   "outputs": [],
   "source": [
    "for folder in os.listdir(data):\n",
    "    folder_path=os.path.join(data,folder)\n",
    "    percentage_to_extract = 0.65\n",
    "    all_images = [f for f in os.listdir(folder_path) if f.endswith(('.jpg', '.png', '.jpeg'))]\n",
    "    num_images_to_extract = int(len(all_images) * percentage_to_extract)\n",
    "    selected_images = random.sample(all_images, num_images_to_extract)\n",
    "    output_folder_path =os.path.join(train,folder)\n",
    "    os.makedirs(output_folder_path, exist_ok=True)\n",
    "    for image_name in selected_images:\n",
    "        source_path = os.path.join(folder_path, image_name)\n",
    "        destination_path = os.path.join(output_folder_path, image_name)\n",
    "        shutil.copyfile(source_path, destination_path)\n"
   ]
  },
  {
   "cell_type": "code",
   "execution_count": null,
   "metadata": {},
   "outputs": [],
   "source": []
  },
  {
   "cell_type": "code",
   "execution_count": null,
   "metadata": {},
   "outputs": [],
   "source": []
  },
  {
   "cell_type": "code",
   "execution_count": null,
   "metadata": {},
   "outputs": [],
   "source": []
  }
 ],
 "metadata": {
  "kernelspec": {
   "display_name": "Python 3 (ipykernel)",
   "language": "python",
   "name": "python3"
  },
  "language_info": {
   "codemirror_mode": {
    "name": "ipython",
    "version": 3
   },
   "file_extension": ".py",
   "mimetype": "text/x-python",
   "name": "python",
   "nbconvert_exporter": "python",
   "pygments_lexer": "ipython3",
   "version": "3.11.5"
  }
 },
 "nbformat": 4,
 "nbformat_minor": 4
}
