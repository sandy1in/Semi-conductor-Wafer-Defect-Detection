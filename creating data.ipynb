{
 "cells": [
  {
   "cell_type": "code",
   "execution_count": 1,
   "id": "c2162d52",
   "metadata": {},
   "outputs": [
    {
     "name": "stdout",
     "output_type": "stream",
     "text": [
      "WARNING:tensorflow:From C:\\Users\\User\\anaconda3\\Lib\\site-packages\\keras\\src\\losses.py:2976: The name tf.losses.sparse_softmax_cross_entropy is deprecated. Please use tf.compat.v1.losses.sparse_softmax_cross_entropy instead.\n",
      "\n"
     ]
    }
   ],
   "source": [
    "import pandas as pd\n",
    "import cv2 as cv\n",
    "import os\n",
    "import numpy as np\n",
    "import matplotlib.pyplot as plt\n",
    "%matplotlib inline\n",
    "from keras.preprocessing.image import ImageDataGenerator,load_img,img_to_array,array_to_img,img_to_array\n",
    "from tensorflow.keras.utils import to_categorical"
   ]
  },
  {
   "cell_type": "code",
   "execution_count": 2,
   "id": "d3275640",
   "metadata": {},
   "outputs": [],
   "source": [
    "def load_images_and_labels(label_path, label_mapping):\n",
    "    \n",
    "    images = []\n",
    "    labels = []\n",
    "        \n",
    "    if os.path.isdir(label_path) and label in label_mapping:\n",
    "        label_value = label_mapping[label]\n",
    "\n",
    "        for filename in os.listdir(label_path):\n",
    "            img_path = os.path.join(label_path, filename)\n",
    "\n",
    "\n",
    "\n",
    "            try:\n",
    "                img=cv.imread(img_path)\n",
    "                img=cv.cvtColor(img,cv.COLOR_BGR2RGB)\n",
    "                img=img/225\n",
    "                images.append(img_to_array(img))\n",
    "                labels.append(label_value)\n",
    "            except Exception as e:\n",
    "                print(e)\n",
    "            \n",
    "    return images,labels\n"
   ]
  },
  {
   "cell_type": "code",
   "execution_count": 3,
   "id": "098093f0",
   "metadata": {},
   "outputs": [],
   "source": [
    "label_mapping={'Center':0, 'Donut':1, 'Edge-Loc':2, 'Edge-Ring':3, 'Loc':4, 'Near-full':5,'none':6, 'Random':7, 'Scratch':8}"
   ]
  },
  {
   "cell_type": "code",
   "execution_count": 4,
   "id": "c1a5711d",
   "metadata": {},
   "outputs": [],
   "source": [
    "trainImages,trainLabels=[],[]"
   ]
  },
  {
   "cell_type": "code",
   "execution_count": 5,
   "id": "522e83fe",
   "metadata": {},
   "outputs": [],
   "source": [
    "directory=os.listdir(\"TrainData\")"
   ]
  },
  {
   "cell_type": "code",
   "execution_count": 6,
   "id": "080f5006",
   "metadata": {},
   "outputs": [
    {
     "data": {
      "text/plain": [
       "['Center',\n",
       " 'Donut',\n",
       " 'Edge-Loc',\n",
       " 'Edge-Ring',\n",
       " 'Loc',\n",
       " 'Near-full',\n",
       " 'none',\n",
       " 'Random',\n",
       " 'Scratch']"
      ]
     },
     "execution_count": 6,
     "metadata": {},
     "output_type": "execute_result"
    }
   ],
   "source": [
    "directory"
   ]
  },
  {
   "cell_type": "code",
   "execution_count": 7,
   "id": "fd2cee27",
   "metadata": {},
   "outputs": [
    {
     "name": "stdout",
     "output_type": "stream",
     "text": [
      "Near-full\n",
      "none\n",
      "Random\n",
      "Scratch\n"
     ]
    }
   ],
   "source": [
    "trainImages1,trainLabels1=[],[]\n",
    "for label in directory[5:]:\n",
    "        print(label)\n",
    "        label_path = os.path.join(\"TrainData\", label)\n",
    "        x1,y1=load_images_and_labels(label_path,label_mapping)\n",
    "        trainImages1+=x1,\n",
    "        trainLabels1+=y1"
   ]
  },
  {
   "cell_type": "code",
   "execution_count": null,
   "id": "f0d3b955",
   "metadata": {},
   "outputs": [
    {
     "name": "stdout",
     "output_type": "stream",
     "text": [
      "Center\n",
      "Donut\n"
     ]
    }
   ],
   "source": [
    "trainImages2,trainLabels2=[],[]\n",
    "for label in directory[:5]:\n",
    "        print(label)\n",
    "        label_path = os.path.join(\"TrainData\", label)\n",
    "        x1,y1=load_images_and_labels(label_path,label_mapping)\n",
    "        trainImages2+=x1,\n",
    "        trainLabels2+=y1"
   ]
  },
  {
   "cell_type": "code",
   "execution_count": null,
   "id": "1aa6c3ba",
   "metadata": {},
   "outputs": [],
   "source": []
  }
 ],
 "metadata": {
  "kernelspec": {
   "display_name": "Python 3 (ipykernel)",
   "language": "python",
   "name": "python3"
  },
  "language_info": {
   "codemirror_mode": {
    "name": "ipython",
    "version": 3
   },
   "file_extension": ".py",
   "mimetype": "text/x-python",
   "name": "python",
   "nbconvert_exporter": "python",
   "pygments_lexer": "ipython3",
   "version": "3.11.5"
  }
 },
 "nbformat": 4,
 "nbformat_minor": 5
}
